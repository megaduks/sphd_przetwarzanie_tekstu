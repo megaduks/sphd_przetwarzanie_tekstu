{
 "cells": [
  {
   "cell_type": "markdown",
   "metadata": {},
   "source": [
    "# Adnotacja danych\n",
    "\n",
    "Adnotacja danych jest jednym z najważniejszych procesów przy trenowaniu statystycznych modeli uczących pracujących na tekście. Do adnotacji można wykorzystać zarówno narzędzia open source, takie jak [Doccano](https://github.com/doccano/doccano), narzędzia komercyjne pokroju [Prodigy](http://prodi.gy), jak i narzędzia do adnotacji programistycznej, choćby znakomity [Snorkel](https://www.snorkel.org).\n",
    "\n",
    "W tym ćwiczeniu zobaczymy dwa podejścia. W pierwszym kroku wykorzystamy wbudowany w bibliotekę `SpaCy` mechanizm regułowego oznaczania danych. W drugim kroku wykorzystamy Prodigy."
   ]
  },
  {
   "cell_type": "markdown",
   "metadata": {},
   "source": [
    "## Adnotacja regułowa z użyciem SpaCy"
   ]
  },
  {
   "cell_type": "code",
   "execution_count": null,
   "metadata": {
    "ExecuteTime": {
     "end_time": "2020-12-03T17:37:17.804352Z",
     "start_time": "2020-12-03T17:37:05.234258Z"
    }
   },
   "outputs": [],
   "source": [
    "import spacy\n",
    "\n",
    "nlp = spacy.load('pl_core_news_md')"
   ]
  },
  {
   "cell_type": "code",
   "execution_count": null,
   "metadata": {
    "ExecuteTime": {
     "end_time": "2020-12-03T17:42:01.130827Z",
     "start_time": "2020-12-03T17:42:01.110081Z"
    }
   },
   "outputs": [],
   "source": [
    "with open('pantadeusz.txt','rt') as f:\n",
    "    text = f.read().replace('\\n', ' ')\n",
    "    \n",
    "text[:1000]"
   ]
  },
  {
   "cell_type": "code",
   "execution_count": null,
   "metadata": {
    "ExecuteTime": {
     "end_time": "2020-12-03T17:57:44.778580Z",
     "start_time": "2020-12-03T17:57:34.897448Z"
    }
   },
   "outputs": [],
   "source": [
    "from spacy.matcher import Matcher\n",
    "\n",
    "matcher = Matcher(nlp.vocab)\n",
    "\n",
    "pattern = [{\"LOWER\": \"pan\"}, {\"POS\": \"NOUN\"}]\n",
    "matcher.add(\"PanJakiśTam\", None, pattern)\n",
    "\n",
    "doc = nlp(text)\n",
    "matches = matcher(doc)\n",
    "\n",
    "for match_id, start, end in matches:\n",
    "    span = doc[start:end]\n",
    "    \n",
    "    print(start, end, span.text)"
   ]
  },
  {
   "cell_type": "code",
   "execution_count": null,
   "metadata": {
    "ExecuteTime": {
     "end_time": "2020-12-03T18:00:08.347279Z",
     "start_time": "2020-12-03T17:59:58.423105Z"
    }
   },
   "outputs": [],
   "source": [
    "matcher = Matcher(nlp.vocab)\n",
    "\n",
    "patterns = [\n",
    "    [{'POS': 'ADJ'}, {'ENT_TYPE': 'placeName'}],\n",
    "    [{'POS': 'ADJ'}, {'ENT_TYPE': 'persName'}],\n",
    "]\n",
    "matcher.add(None, None, *patterns)\n",
    "\n",
    "doc = nlp(text)\n",
    "matches = matcher(doc)\n",
    "\n",
    "for match_id, start, end in matches:\n",
    "    span = doc[start:end]\n",
    "    \n",
    "    print(match_id, start, end, span.text)"
   ]
  },
  {
   "cell_type": "code",
   "execution_count": null,
   "metadata": {
    "ExecuteTime": {
     "end_time": "2020-12-03T18:02:53.012078Z",
     "start_time": "2020-12-03T18:02:52.995375Z"
    }
   },
   "outputs": [],
   "source": [
    "ent_types = []\n",
    "\n",
    "for e in doc.ents:\n",
    "    ent_types.append(e.label_)\n",
    "    \n",
    "print(set(ent_types))"
   ]
  },
  {
   "cell_type": "markdown",
   "metadata": {},
   "source": [
    "### zadanie samodzielne\n",
    "\n",
    "Przygotuj *matcher* który znajdzie w treści \"*Pana Tadeusza*\" wszystkie rzeczowniki występujące bezpośrednio przed lub po jakiejś dacie rocznej."
   ]
  },
  {
   "cell_type": "code",
   "execution_count": null,
   "metadata": {
    "ExecuteTime": {
     "end_time": "2020-12-03T18:07:43.309894Z",
     "start_time": "2020-12-03T18:07:33.277463Z"
    }
   },
   "outputs": [],
   "source": [
    "matcher = Matcher(nlp.vocab)\n",
    "\n",
    "patterns = [\n",
    "    # uzupełnij definicję wzorców\n",
    "]\n",
    "matcher.add(\"DatyRoczne\", None, *patterns)\n",
    "\n",
    "doc = nlp(text)\n",
    "matches = matcher(doc)\n",
    "\n",
    "for match_id, start, end in matches:\n",
    "    span = doc[start:end]\n",
    "    \n",
    "    print(match_id, start, end, span.text)"
   ]
  },
  {
   "cell_type": "markdown",
   "metadata": {},
   "source": [
    "## Adnotacja przy użyciu Prodigy"
   ]
  },
  {
   "cell_type": "markdown",
   "metadata": {},
   "source": [
    "1. Utworzenie zbioru danych\n",
    "\n",
    "```bash\n",
    "prodigy dataset owoce \"Zbiór słów które posłużą jako przykładowe owoce\"\n",
    "```\n",
    "\n",
    "2. Wykorzystanie przestrzeni wektorowej do rozszerzenia zbioru słów reprezentujących owoce\n",
    "\n",
    "```bash\n",
    "prodigy terms.teach owoce pl_core_news_lg --seeds jabłko,gruszka,wiśnia,porzeczki\n",
    "```\n",
    "\n",
    "3. Zapisanie owoców w postaci wzorców dostępnych dla uczenia modelu\n",
    "\n",
    "```bash\n",
    "prodigy terms.to-patterns owoce owoce.jsonl --spacy-model pl_core_news_lg --label OWOC\n",
    "```\n",
    "\n",
    "4. Utworzenie zbioru uczącego \n",
    "\n",
    "```bash\n",
    "prodigy dataset owoce_ner \"Adnotacje z lokalizacją owoców w Panu Tadeuszu\"\n",
    "```\n",
    "\n",
    "5. Ręczna adnotacja danych z użyciem modelu \n",
    "\n",
    "```bash\n",
    "prodigy ner.teach owoce_ner pl_core_news_lg pantadeusz.txt --loader txt \n",
    "    --label OWOC --patterns owoce.jsonl --unsegmented\n",
    "```\n",
    "\n",
    "6. Wytreniowanie modelu rozpoznawania owoców\n",
    "\n",
    "```bash\n",
    "prodigy train ner owoce_ner pl_core_news_lg --output /tmp/model --n-iter 100\n",
    "```"
   ]
  },
  {
   "cell_type": "code",
   "execution_count": null,
   "metadata": {
    "ExecuteTime": {
     "end_time": "2020-12-03T22:18:16.793650Z",
     "start_time": "2020-12-03T22:17:59.672692Z"
    }
   },
   "outputs": [],
   "source": [
    "import spacy\n",
    "\n",
    "nlp = spacy.load('/tmp/model')\n",
    "\n",
    "phrases = [\n",
    "    'W tej części sadu rosły tu i ówdzie wiśnie, ',\n",
    "    'Zlany granatem czarnej, zgniecionej jagody ',\n",
    "    'Nieszczęściem, trącił krzaki suchego agrestu. '\n",
    "]\n",
    "\n",
    "for doc in nlp.pipe(phrases):\n",
    "    print(doc)\n",
    "    for e in doc.ents:\n",
    "        print(e.label_, doc[e.start:e.end])"
   ]
  },
  {
   "cell_type": "code",
   "execution_count": null,
   "metadata": {},
   "outputs": [],
   "source": []
  }
 ],
 "metadata": {
  "kernelspec": {
   "display_name": "Python 3",
   "language": "python",
   "name": "python3"
  },
  "language_info": {
   "codemirror_mode": {
    "name": "ipython",
    "version": 3
   },
   "file_extension": ".py",
   "mimetype": "text/x-python",
   "name": "python",
   "nbconvert_exporter": "python",
   "pygments_lexer": "ipython3",
   "version": "3.8.5"
  },
  "toc": {
   "base_numbering": 1,
   "nav_menu": {},
   "number_sections": false,
   "sideBar": true,
   "skip_h1_title": false,
   "title_cell": "Table of Contents",
   "title_sidebar": "Contents",
   "toc_cell": false,
   "toc_position": {},
   "toc_section_display": true,
   "toc_window_display": true
  },
  "varInspector": {
   "cols": {
    "lenName": 16,
    "lenType": 16,
    "lenVar": 40
   },
   "kernels_config": {
    "python": {
     "delete_cmd_postfix": "",
     "delete_cmd_prefix": "del ",
     "library": "var_list.py",
     "varRefreshCmd": "print(var_dic_list())"
    },
    "r": {
     "delete_cmd_postfix": ") ",
     "delete_cmd_prefix": "rm(",
     "library": "var_list.r",
     "varRefreshCmd": "cat(var_dic_list()) "
    }
   },
   "types_to_exclude": [
    "module",
    "function",
    "builtin_function_or_method",
    "instance",
    "_Feature"
   ],
   "window_display": false
  }
 },
 "nbformat": 4,
 "nbformat_minor": 4
}
